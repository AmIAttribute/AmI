{
 "cells": [
  {
   "cell_type": "code",
   "execution_count": null,
   "metadata": {},
   "outputs": [],
   "source": [
    "import caffe\n",
    "import cv2\n",
    "import numpy as np\n",
    "import os\n",
    "import utils\n",
    "\n",
    "\n",
    "def get_neuron_diffs(net, cur_l, pos_l, img_original, img_mutated):\n",
    "    net.blobs['data'].data[...] = utils.get_data(img_original)\n",
    "    net.forward(end=pos_l)\n",
    "    data_original = net.blobs[cur_l].data[0].copy()\n",
    "\n",
    "    net.blobs['data'].data[...] = utils.get_data(img_mutated)\n",
    "    net.forward(end=pos_l)\n",
    "    data_mutated = net.blobs[cur_l].data[0].copy()\n",
    "\n",
    "    diffs = []\n",
    "    for i in range(len(data_original)):\n",
    "        diffs.append(np.sum(abs(data_mutated[i] - data_original[i])))\n",
    "\n",
    "    return diffs"
   ]
  },
  {
   "cell_type": "code",
   "execution_count": null,
   "metadata": {},
   "outputs": [],
   "source": [
    "caffe.set_mode_cpu()\n",
    "vgg_root   = '../data/vgg_face_caffe/'\n",
    "vgg_deploy = vgg_root + 'VGG_FACE_deploy.prototxt'\n",
    "vgg_weight = vgg_root + 'VGG_FACE.caffemodel'\n",
    "vgg_net    = caffe.Net(vgg_deploy, vgg_weight, caffe.TEST)\n",
    "vgg_layers = utils.get_layers(vgg_net)"
   ]
  },
  {
   "cell_type": "code",
   "execution_count": null,
   "metadata": {},
   "outputs": [],
   "source": [
    "attributes = ['leye', 'reye', 'nose', 'mouth']\n",
    "actions    = ['substitution', 'preservation']\n",
    "root_path  = '../data/attribute_mutated/'\n",
    "base_img   = '../data/base_img.jpg'\n",
    "\n",
    "attri = attributes[0]\n",
    "\n",
    "f = open('../data/witnesses/' + attri + '_witness.txt', 'w')\n",
    "\n",
    "for idx in range(1, len(vgg_layers)-2):\n",
    "    cur_l = vgg_layers[idx]\n",
    "    pos_l = vgg_layers[idx+1]\n",
    "\n",
    "    if 'pool' in cur_l:\n",
    "        layer_size = utils.get_layer_size(vgg_net, vgg_layers[idx-1])\n",
    "    else:\n",
    "        layer_size = utils.get_layer_size(vgg_net, cur_l)\n",
    "\n",
    "    neuron_set = set(range(layer_size))\n",
    "\n",
    "    for img_name in os.listdir(root_path + attri + '_' + actions[0]):\n",
    "        attri_sub = root_path + attri + '_' + actions[0] + '/' + img_name\n",
    "        attri_pre = root_path + attri + '_' + actions[1] + '/' + img_name\n",
    "\n",
    "        diff_sub = get_neuron_diffs(vgg_net, cur_l, pos_l, base_img, attri_sub)\n",
    "        diff_pre = get_neuron_diffs(vgg_net, cur_l, pos_l, base_img, attri_pre)\n",
    "\n",
    "        sub_set = set([i for i in range(len(diff_sub)) if diff_sub[i] > np.median(diff_sub)])\n",
    "        neuron_set.intersection_update(sub_set)\n",
    "\n",
    "        pre_set = set([i for i in range(len(diff_pre)) if diff_pre[i] <= np.median(diff_pre)])\n",
    "        neuron_set.intersection_update(pre_set)\n",
    "\n",
    "        if not neuron_set:\n",
    "            break\n",
    "\n",
    "    if len(neuron_set) != 0:\n",
    "        print('{}\\t: {}'.format(cur_l, list(neuron_set)))\n",
    "        f.write(cur_l + ',' + str(list(neuron_set))[1:-1] + '\\n')\n",
    "    else:\n",
    "        print('{}\\t: {}'.format(cur_l, 'None'))\n",
    "\n",
    "f.close()"
   ]
  }
 ],
 "metadata": {
  "kernelspec": {
   "display_name": "Python 2",
   "language": "python",
   "name": "python2"
  },
  "language_info": {
   "codemirror_mode": {
    "name": "ipython",
    "version": 2
   },
   "file_extension": ".py",
   "mimetype": "text/x-python",
   "name": "python",
   "nbconvert_exporter": "python",
   "pygments_lexer": "ipython2",
   "version": "2.7.12"
  }
 },
 "nbformat": 4,
 "nbformat_minor": 2
}
