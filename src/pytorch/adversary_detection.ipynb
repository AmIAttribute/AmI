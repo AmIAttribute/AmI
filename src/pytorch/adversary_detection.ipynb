{
 "cells": [
  {
   "cell_type": "code",
   "execution_count": 1,
   "metadata": {
    "collapsed": true
   },
   "outputs": [
    {
     "name": "stdout",
     "output_type": "stream",
     "text": [
      "register hook for conv1_1\n",
      "register hook for conv1_2\n",
      "register hook for pool1\n",
      "register hook for conv2_1\n",
      "register hook for conv2_2\n",
      "register hook for pool2\n",
      "register hook for conv3_1\n",
      "register hook for conv3_2\n",
      "register hook for conv3_3\n",
      "register hook for pool3\n",
      "register hook for conv4_1\n",
      "register hook for conv4_2\n",
      "register hook for conv4_3\n",
      "register hook for pool4\n",
      "register hook for conv5_1\n",
      "register hook for conv5_2\n",
      "register hook for conv5_3\n",
      "register hook for pool5\n",
      "register hook for fc6\n",
      "register hook for fc7\n"
     ]
    },
    {
     "data": {
      "text/plain": [
       "Vgg_face_dag(\n",
       "  (conv1_1): Conv2d(3, 64, kernel_size=[3, 3], stride=(1, 1), padding=(1, 1))\n",
       "  (relu1_1): ReLU(inplace=True)\n",
       "  (conv1_2): Conv2d(64, 64, kernel_size=[3, 3], stride=(1, 1), padding=(1, 1))\n",
       "  (relu1_2): ReLU(inplace=True)\n",
       "  (pool1): MaxPool2d(kernel_size=[2, 2], stride=[2, 2], padding=0, dilation=1, ceil_mode=False)\n",
       "  (conv2_1): Conv2d(64, 128, kernel_size=[3, 3], stride=(1, 1), padding=(1, 1))\n",
       "  (relu2_1): ReLU(inplace=True)\n",
       "  (conv2_2): Conv2d(128, 128, kernel_size=[3, 3], stride=(1, 1), padding=(1, 1))\n",
       "  (relu2_2): ReLU(inplace=True)\n",
       "  (pool2): MaxPool2d(kernel_size=[2, 2], stride=[2, 2], padding=0, dilation=1, ceil_mode=False)\n",
       "  (conv3_1): Conv2d(128, 256, kernel_size=[3, 3], stride=(1, 1), padding=(1, 1))\n",
       "  (relu3_1): ReLU(inplace=True)\n",
       "  (conv3_2): Conv2d(256, 256, kernel_size=[3, 3], stride=(1, 1), padding=(1, 1))\n",
       "  (relu3_2): ReLU(inplace=True)\n",
       "  (conv3_3): Conv2d(256, 256, kernel_size=[3, 3], stride=(1, 1), padding=(1, 1))\n",
       "  (relu3_3): ReLU(inplace=True)\n",
       "  (pool3): MaxPool2d(kernel_size=[2, 2], stride=[2, 2], padding=0, dilation=1, ceil_mode=False)\n",
       "  (conv4_1): Conv2d(256, 512, kernel_size=[3, 3], stride=(1, 1), padding=(1, 1))\n",
       "  (relu4_1): ReLU(inplace=True)\n",
       "  (conv4_2): Conv2d(512, 512, kernel_size=[3, 3], stride=(1, 1), padding=(1, 1))\n",
       "  (relu4_2): ReLU(inplace=True)\n",
       "  (conv4_3): Conv2d(512, 512, kernel_size=[3, 3], stride=(1, 1), padding=(1, 1))\n",
       "  (relu4_3): ReLU(inplace=True)\n",
       "  (pool4): MaxPool2d(kernel_size=[2, 2], stride=[2, 2], padding=0, dilation=1, ceil_mode=False)\n",
       "  (conv5_1): Conv2d(512, 512, kernel_size=[3, 3], stride=(1, 1), padding=(1, 1))\n",
       "  (relu5_1): ReLU(inplace=True)\n",
       "  (conv5_2): Conv2d(512, 512, kernel_size=[3, 3], stride=(1, 1), padding=(1, 1))\n",
       "  (relu5_2): ReLU(inplace=True)\n",
       "  (conv5_3): Conv2d(512, 512, kernel_size=[3, 3], stride=(1, 1), padding=(1, 1))\n",
       "  (relu5_3): ReLU(inplace=True)\n",
       "  (pool5): MaxPool2d(kernel_size=[2, 2], stride=[2, 2], padding=0, dilation=1, ceil_mode=False)\n",
       "  (fc6): Linear(in_features=25088, out_features=4096, bias=True)\n",
       "  (relu6): ReLU(inplace=True)\n",
       "  (dropout6): Dropout(p=0.5, inplace=False)\n",
       "  (fc7): Linear(in_features=4096, out_features=4096, bias=True)\n",
       "  (relu7): ReLU(inplace=True)\n",
       "  (dropout7): Dropout(p=0.5, inplace=False)\n",
       "  (fc8): Linear(in_features=4096, out_features=2622, bias=True)\n",
       ")"
      ]
     },
     "execution_count": 1,
     "metadata": {},
     "output_type": "execute_result"
    }
   ],
   "source": [
    "import torch\n",
    "import utils\n",
    "import os\n",
    "import numpy as np\n",
    "from collections import OrderedDict\n",
    "from vgg_face_dag import vgg_face_dag\n",
    "\n",
    "SKIP_LAYERS = utils.SKIP_LAYERS\n",
    "\n",
    "device = torch.device('cuda')\n",
    "vgg_weight = './vgg_face_dag.pth'\n",
    "\n",
    "# ami model\n",
    "attribute_model = vgg_face_dag(vgg_weight)\n",
    "attribute_model.to(device)\n",
    "attribute_model.eval()\n",
    "attribute_model.set_ami_params(100., 2.15, 60.)\n",
    "attribute_model.register_my_hook(skip_layers=SKIP_LAYERS, ami_data=utils.load_neuron_set_lists())\n",
    "\n",
    "# original model\n",
    "vgg_net = vgg_face_dag(vgg_weight)\n",
    "vgg_net.to(device)\n",
    "vgg_net.eval()"
   ]
  },
  {
   "cell_type": "code",
   "execution_count": 2,
   "metadata": {},
   "outputs": [],
   "source": [
    "vgg_root   = '../../data/vgg_face_caffe/'\n",
    "vgg_names  = utils.read_list(vgg_root + 'names.txt')"
   ]
  },
  {
   "cell_type": "code",
   "execution_count": 8,
   "metadata": {},
   "outputs": [
    {
     "name": "stdout",
     "output_type": "stream",
     "text": [
      "  1 Gold-Original-Attribute: 2489- 619- 619  |  Adversary: 0.0000 [  0/  1]\n",
      "  2 Gold-Original-Attribute:  737- 738-2216  |  Adversary: 0.5000 [  1/  2]\n",
      "  3 Gold-Original-Attribute: 1859-1860- 511  |  Adversary: 0.6667 [  2/  3]\n",
      "  4 Gold-Original-Attribute: 1944-1743-1945  |  Adversary: 0.7500 [  3/  4]\n",
      "  5 Gold-Original-Attribute: 1124-1189-1657  |  Adversary: 0.8000 [  4/  5]\n",
      "  6 Gold-Original-Attribute: 2189- 159- 525  |  Adversary: 0.8333 [  5/  6]\n",
      "  7 Gold-Original-Attribute:   70-1335- 109  |  Adversary: 0.8571 [  6/  7]\n",
      "  8 Gold-Original-Attribute:  586-1859-1859  |  Adversary: 0.7500 [  6/  8]\n",
      "  9 Gold-Original-Attribute:  220- 221- 836  |  Adversary: 0.7778 [  7/  9]\n",
      " 10 Gold-Original-Attribute: 1992-  78-  78  |  Adversary: 0.7000 [  7/ 10]\n",
      " 11 Gold-Original-Attribute: 1664-1072-1145  |  Adversary: 0.7273 [  8/ 11]\n",
      " 12 Gold-Original-Attribute:  134- 658- 863  |  Adversary: 0.7500 [  9/ 12]\n",
      " 13 Gold-Original-Attribute:  237- 251- 251  |  Adversary: 0.6923 [  9/ 13]\n",
      " 14 Gold-Original-Attribute:  882- 380-1765  |  Adversary: 0.7143 [ 10/ 14]\n",
      " 15 Gold-Original-Attribute: 2170-2171-2351  |  Adversary: 0.7333 [ 11/ 15]\n",
      " 16 Gold-Original-Attribute:  538-2479-2346  |  Adversary: 0.7500 [ 12/ 16]\n",
      " 17 Gold-Original-Attribute: 2455- 820-2469  |  Adversary: 0.7647 [ 13/ 17]\n",
      " 18 Gold-Original-Attribute: 1584-2140-2140  |  Adversary: 0.7222 [ 13/ 18]\n",
      " 19 Gold-Original-Attribute: 1060-2244- 602  |  Adversary: 0.7368 [ 14/ 19]\n",
      " 20 Gold-Original-Attribute: 1600-1601- 294  |  Adversary: 0.7500 [ 15/ 20]\n",
      " 21 Gold-Original-Attribute:  132- 133- 132  |  Adversary: 0.7619 [ 16/ 21]\n",
      " 22 Gold-Original-Attribute: 2420- 906-1346  |  Adversary: 0.7727 [ 17/ 22]\n",
      " 23 Gold-Original-Attribute:  588- 589- 589  |  Adversary: 0.7391 [ 17/ 23]\n",
      " 24 Gold-Original-Attribute: 1441- 963-1333  |  Adversary: 0.7500 [ 18/ 24]\n",
      " 25 Gold-Original-Attribute:  674-1862- 161  |  Adversary: 0.7600 [ 19/ 25]\n",
      " 26 Gold-Original-Attribute: 1261-2404-1427  |  Adversary: 0.7692 [ 20/ 26]\n",
      " 27 Gold-Original-Attribute:  747- 787- 787  |  Adversary: 0.7407 [ 20/ 27]\n",
      " 28 Gold-Original-Attribute:  506-  78-  78  |  Adversary: 0.7143 [ 20/ 28]\n",
      " 29 Gold-Original-Attribute:  511- 422-2359  |  Adversary: 0.7241 [ 21/ 29]\n",
      " 30 Gold-Original-Attribute: 1498- 516- 516  |  Adversary: 0.7000 [ 21/ 30]\n",
      " 31 Gold-Original-Attribute: 1058- 121- 252  |  Adversary: 0.7097 [ 22/ 31]\n",
      " 32 Gold-Original-Attribute: 1433-1307-1307  |  Adversary: 0.6875 [ 22/ 32]\n",
      " 33 Gold-Original-Attribute: 1202-1073-1551  |  Adversary: 0.6970 [ 23/ 33]\n",
      " 34 Gold-Original-Attribute: 2058-2475-2475  |  Adversary: 0.6765 [ 23/ 34]\n",
      " 35 Gold-Original-Attribute: 2508-  57-2508  |  Adversary: 0.6857 [ 24/ 35]\n",
      " 36 Gold-Original-Attribute:  714-1252-1252  |  Adversary: 0.6667 [ 24/ 36]\n",
      " 37 Gold-Original-Attribute: 2605-2562-2562  |  Adversary: 0.6486 [ 24/ 37]\n",
      " 38 Gold-Original-Attribute: 1786-1404- 812  |  Adversary: 0.6579 [ 25/ 38]\n",
      " 39 Gold-Original-Attribute: 1415- 215- 215  |  Adversary: 0.6410 [ 25/ 39]\n",
      " 40 Gold-Original-Attribute: 1166-1526-1526  |  Adversary: 0.6250 [ 25/ 40]\n",
      " 41 Gold-Original-Attribute:  489-1137-1137  |  Adversary: 0.6098 [ 25/ 41]\n",
      " 42 Gold-Original-Attribute: 1201- 434-1183  |  Adversary: 0.6190 [ 26/ 42]\n"
     ]
    }
   ],
   "source": [
    "attack_path = '../../data/attacks/patch_next/'\n",
    "\n",
    "img_count = 0\n",
    "adv_count = 0\n",
    "\n",
    "with torch.no_grad():\n",
    "    for img_name in os.listdir(attack_path):\n",
    "        img_name  = img_name.strip()\n",
    "        img_path  = attack_path + img_name\n",
    "\n",
    "        prob_original  = vgg_net(utils.get_data(img_path).to(device))\n",
    "        prob_attribute = attribute_model(utils.get_data(img_path).to(device))\n",
    "        id_original    = torch.max(prob_original, 1)[1].item()\n",
    "        id_attribute   = torch.max(prob_attribute, 1)[1].item()\n",
    "\n",
    "        id_gold = utils.get_identity(img_name, vgg_names)\n",
    "        \n",
    "        if id_gold != id_original:\n",
    "            img_count += 1\n",
    "        \n",
    "            ### consistency observer for detecting adversarial samples ###\n",
    "            if id_original != id_attribute:\n",
    "                adv_count += 1\n",
    "\n",
    "            print('{:3} Gold-Original-Attribute: {:4}-{:4}-{:4}  |  Adversary: {:.4f} [{:3}/{:3}]'\n",
    "                  .format(img_count, id_gold, id_original, id_attribute, \n",
    "                          1.0*adv_count/img_count, adv_count, img_count))"
   ]
  },
  {
   "cell_type": "code",
   "execution_count": null,
   "metadata": {},
   "outputs": [],
   "source": []
  }
 ],
 "metadata": {
  "kernelspec": {
   "display_name": "Python 3",
   "language": "python",
   "name": "python3"
  },
  "language_info": {
   "codemirror_mode": {
    "name": "ipython",
    "version": 3
   },
   "file_extension": ".py",
   "mimetype": "text/x-python",
   "name": "python",
   "nbconvert_exporter": "python",
   "pygments_lexer": "ipython3",
   "version": "3.6.8"
  }
 },
 "nbformat": 4,
 "nbformat_minor": 2
}
