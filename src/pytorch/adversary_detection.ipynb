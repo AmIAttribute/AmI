{
 "cells": [
  {
   "cell_type": "code",
   "execution_count": 1,
   "metadata": {
    "scrolled": true
   },
   "outputs": [
    {
     "name": "stdout",
     "output_type": "stream",
     "text": [
      "register hook for conv1_1\n",
      "register hook for conv1_2\n",
      "register hook for pool1\n",
      "register hook for conv2_1\n",
      "register hook for conv2_2\n",
      "register hook for pool2\n",
      "register hook for conv3_1\n",
      "register hook for conv3_2\n",
      "register hook for conv3_3\n",
      "register hook for pool3\n",
      "register hook for conv4_1\n",
      "register hook for conv4_2\n",
      "register hook for conv4_3\n",
      "register hook for pool4\n",
      "register hook for conv5_1\n",
      "register hook for conv5_2\n",
      "register hook for conv5_3\n",
      "register hook for pool5\n",
      "register hook for fc6\n",
      "register hook for fc7\n"
     ]
    },
    {
     "data": {
      "text/plain": [
       "Vgg_face_dag(\n",
       "  (conv1_1): Conv2d(3, 64, kernel_size=[3, 3], stride=(1, 1), padding=(1, 1))\n",
       "  (relu1_1): ReLU(inplace=True)\n",
       "  (conv1_2): Conv2d(64, 64, kernel_size=[3, 3], stride=(1, 1), padding=(1, 1))\n",
       "  (relu1_2): ReLU(inplace=True)\n",
       "  (pool1): MaxPool2d(kernel_size=[2, 2], stride=[2, 2], padding=0, dilation=1, ceil_mode=False)\n",
       "  (conv2_1): Conv2d(64, 128, kernel_size=[3, 3], stride=(1, 1), padding=(1, 1))\n",
       "  (relu2_1): ReLU(inplace=True)\n",
       "  (conv2_2): Conv2d(128, 128, kernel_size=[3, 3], stride=(1, 1), padding=(1, 1))\n",
       "  (relu2_2): ReLU(inplace=True)\n",
       "  (pool2): MaxPool2d(kernel_size=[2, 2], stride=[2, 2], padding=0, dilation=1, ceil_mode=False)\n",
       "  (conv3_1): Conv2d(128, 256, kernel_size=[3, 3], stride=(1, 1), padding=(1, 1))\n",
       "  (relu3_1): ReLU(inplace=True)\n",
       "  (conv3_2): Conv2d(256, 256, kernel_size=[3, 3], stride=(1, 1), padding=(1, 1))\n",
       "  (relu3_2): ReLU(inplace=True)\n",
       "  (conv3_3): Conv2d(256, 256, kernel_size=[3, 3], stride=(1, 1), padding=(1, 1))\n",
       "  (relu3_3): ReLU(inplace=True)\n",
       "  (pool3): MaxPool2d(kernel_size=[2, 2], stride=[2, 2], padding=0, dilation=1, ceil_mode=False)\n",
       "  (conv4_1): Conv2d(256, 512, kernel_size=[3, 3], stride=(1, 1), padding=(1, 1))\n",
       "  (relu4_1): ReLU(inplace=True)\n",
       "  (conv4_2): Conv2d(512, 512, kernel_size=[3, 3], stride=(1, 1), padding=(1, 1))\n",
       "  (relu4_2): ReLU(inplace=True)\n",
       "  (conv4_3): Conv2d(512, 512, kernel_size=[3, 3], stride=(1, 1), padding=(1, 1))\n",
       "  (relu4_3): ReLU(inplace=True)\n",
       "  (pool4): MaxPool2d(kernel_size=[2, 2], stride=[2, 2], padding=0, dilation=1, ceil_mode=False)\n",
       "  (conv5_1): Conv2d(512, 512, kernel_size=[3, 3], stride=(1, 1), padding=(1, 1))\n",
       "  (relu5_1): ReLU(inplace=True)\n",
       "  (conv5_2): Conv2d(512, 512, kernel_size=[3, 3], stride=(1, 1), padding=(1, 1))\n",
       "  (relu5_2): ReLU(inplace=True)\n",
       "  (conv5_3): Conv2d(512, 512, kernel_size=[3, 3], stride=(1, 1), padding=(1, 1))\n",
       "  (relu5_3): ReLU(inplace=True)\n",
       "  (pool5): MaxPool2d(kernel_size=[2, 2], stride=[2, 2], padding=0, dilation=1, ceil_mode=False)\n",
       "  (fc6): Linear(in_features=25088, out_features=4096, bias=True)\n",
       "  (relu6): ReLU(inplace=True)\n",
       "  (dropout6): Dropout(p=0.5, inplace=False)\n",
       "  (fc7): Linear(in_features=4096, out_features=4096, bias=True)\n",
       "  (relu7): ReLU(inplace=True)\n",
       "  (dropout7): Dropout(p=0.5, inplace=False)\n",
       "  (fc8): Linear(in_features=4096, out_features=2622, bias=True)\n",
       ")"
      ]
     },
     "execution_count": 1,
     "metadata": {},
     "output_type": "execute_result"
    }
   ],
   "source": [
    "import torch\n",
    "import utils\n",
    "import os\n",
    "import numpy as np\n",
    "from collections import OrderedDict\n",
    "from vgg_face_dag import vgg_face_dag\n",
    "\n",
    "SKIP_LAYERS = utils.SKIP_LAYERS\n",
    "\n",
    "device = torch.device('cuda')\n",
    "vgg_weight = './vgg_face_dag.pth'\n",
    "\n",
    "# ami model\n",
    "attribute_model = vgg_face_dag(vgg_weight)\n",
    "attribute_model.to(device)\n",
    "attribute_model.eval()\n",
    "attribute_model.set_ami_params(15., 2.15, 15.)\n",
    "attribute_model.register_my_hook(skip_layers=SKIP_LAYERS, ami_data=utils.load_neuron_set_lists())\n",
    "\n",
    "# original model\n",
    "vgg_net = vgg_face_dag(vgg_weight)\n",
    "vgg_net.to(device)\n",
    "vgg_net.eval()"
   ]
  },
  {
   "cell_type": "code",
   "execution_count": 2,
   "metadata": {},
   "outputs": [],
   "source": [
    "vgg_root   = '../../data/vgg_face_caffe/'\n",
    "vgg_names  = utils.read_list(vgg_root + 'names.txt')"
   ]
  },
  {
   "cell_type": "code",
   "execution_count": 3,
   "metadata": {},
   "outputs": [
    {
     "name": "stdout",
     "output_type": "stream",
     "text": [
      "  1 Gold-Original-Attribute:    4- 199-1606  |  Adversary: 1.0000 [  1/  1]\n",
      "  2 Gold-Original-Attribute:  211- 553- 211  |  Adversary: 1.0000 [  2/  2]\n",
      "  3 Gold-Original-Attribute:  708- 632-2256  |  Adversary: 1.0000 [  3/  3]\n",
      "  4 Gold-Original-Attribute: 1754- 666-2437  |  Adversary: 1.0000 [  4/  4]\n",
      "  5 Gold-Original-Attribute:  776-1562-1562  |  Adversary: 0.8000 [  4/  5]\n",
      "  6 Gold-Original-Attribute:  778-1224- 778  |  Adversary: 0.8333 [  5/  6]\n",
      "  7 Gold-Original-Attribute: 1454-2598-1454  |  Adversary: 0.8571 [  6/  7]\n",
      "  8 Gold-Original-Attribute:  506-1765-  35  |  Adversary: 0.8750 [  7/  8]\n",
      "  9 Gold-Original-Attribute: 1859-  39-1863  |  Adversary: 0.8889 [  8/  9]\n",
      " 10 Gold-Original-Attribute: 2271- 422-   0  |  Adversary: 0.9000 [  9/ 10]\n",
      " 11 Gold-Original-Attribute: 1741-1423-1847  |  Adversary: 0.9091 [ 10/ 11]\n",
      " 12 Gold-Original-Attribute:  937- 163- 937  |  Adversary: 0.9167 [ 11/ 12]\n",
      " 13 Gold-Original-Attribute:  606-1152-1152  |  Adversary: 0.8462 [ 11/ 13]\n",
      " 14 Gold-Original-Attribute:  345-1649-1228  |  Adversary: 0.8571 [ 12/ 14]\n",
      " 15 Gold-Original-Attribute: 1376-1027-1376  |  Adversary: 0.8667 [ 13/ 15]\n",
      " 16 Gold-Original-Attribute: 1565-1172-1565  |  Adversary: 0.8750 [ 14/ 16]\n",
      " 17 Gold-Original-Attribute: 1477-2353-1477  |  Adversary: 0.8824 [ 15/ 17]\n",
      " 18 Gold-Original-Attribute: 1605-1763- 168  |  Adversary: 0.8889 [ 16/ 18]\n",
      " 19 Gold-Original-Attribute: 1203-1081-1203  |  Adversary: 0.8947 [ 17/ 19]\n",
      " 20 Gold-Original-Attribute:  612- 611- 611  |  Adversary: 0.8500 [ 17/ 20]\n",
      " 21 Gold-Original-Attribute: 1498-1091-2256  |  Adversary: 0.8571 [ 18/ 21]\n",
      " 22 Gold-Original-Attribute:  445- 714-2443  |  Adversary: 0.8636 [ 19/ 22]\n",
      " 23 Gold-Original-Attribute: 2431-2458-2098  |  Adversary: 0.8696 [ 20/ 23]\n",
      " 24 Gold-Original-Attribute: 1441-2326-1094  |  Adversary: 0.8750 [ 21/ 24]\n",
      " 25 Gold-Original-Attribute: 1643- 507- 501  |  Adversary: 0.8800 [ 22/ 25]\n",
      " 26 Gold-Original-Attribute: 2377-  28-  28  |  Adversary: 0.8462 [ 22/ 26]\n",
      " 27 Gold-Original-Attribute: 2198- 516-1778  |  Adversary: 0.8519 [ 23/ 27]\n"
     ]
    }
   ],
   "source": [
    "attack_path = '../../data/attacks/cw_l2_next/'\n",
    "\n",
    "img_count = 0\n",
    "adv_count = 0\n",
    "\n",
    "with torch.no_grad():\n",
    "    for img_name in os.listdir(attack_path):\n",
    "        img_name  = img_name.strip()\n",
    "        img_path  = attack_path + img_name\n",
    "\n",
    "        prob_original  = vgg_net(utils.get_data(img_path).to(device))\n",
    "        prob_attribute = attribute_model(utils.get_data(img_path).to(device))\n",
    "        id_original    = torch.max(prob_original, 1)[1].item()\n",
    "        id_attribute   = torch.max(prob_attribute, 1)[1].item()\n",
    "\n",
    "        id_gold = utils.get_identity(img_name, vgg_names)\n",
    "        \n",
    "        if id_gold != id_original:\n",
    "            img_count += 1\n",
    "        \n",
    "            ### consistency observer for detecting adversarial samples ###\n",
    "            if id_original != id_attribute:\n",
    "                adv_count += 1\n",
    "\n",
    "            print('{:3} Gold-Original-Attribute: {:4}-{:4}-{:4}  |  Adversary: {:.4f} [{:3}/{:3}]'\n",
    "                  .format(img_count, id_gold, id_original, id_attribute, \n",
    "                          1.0*adv_count/img_count, adv_count, img_count))"
   ]
  },
  {
   "cell_type": "code",
   "execution_count": null,
   "metadata": {},
   "outputs": [],
   "source": []
  }
 ],
 "metadata": {
  "kernelspec": {
   "display_name": "Python 3",
   "language": "python",
   "name": "python3"
  },
  "language_info": {
   "codemirror_mode": {
    "name": "ipython",
    "version": 3
   },
   "file_extension": ".py",
   "mimetype": "text/x-python",
   "name": "python",
   "nbconvert_exporter": "python",
   "pygments_lexer": "ipython3",
   "version": "3.6.7"
  }
 },
 "nbformat": 4,
 "nbformat_minor": 2
}
